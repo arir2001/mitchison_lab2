{
 "cells": [
  {
   "cell_type": "markdown",
   "metadata": {},
   "source": [
    "## Lab 2 – Computational Methods\n",
    "\n",
    "## Part 2: Planetary orbits"
   ]
  },
  {
   "cell_type": "markdown",
   "metadata": {},
   "source": [
    "The gravitational force felt by an object (planet, satellite, star, etc.) of mass $m_1$ at position $\\mathbf{r}_1$  due to another of mass $m_2$ at $\\mathbf{r}_2$ is given by\n",
    "\n",
    "$$\\mathbf{F} = - \\frac{G m_1 m_2}{|\\mathbf{r_1} - \\mathbf{r_2}|^3} (\\mathbf{r}_1-\\mathbf{r}_2)$$\n",
    "\n",
    "The equations of motion for the first object can then be written:\n",
    "\n",
    "$$ \\frac{\\mathrm{d}^2 x_1}{\\mathrm{d} t^2} = - \\frac{G m_2}{|\\mathbf{r_1} - \\mathbf{r_2}|^3} (x_1-x_2) $$\n",
    "$$ \\frac{\\mathrm{d}^2 y_1}{\\mathrm{d} t^2} = - \\frac{G m_2}{|\\mathbf{r_1} - \\mathbf{r_2}|^3} (y_1-y_2) $$\n",
    "\n",
    "In what follows, we will express time in years, distances in AU (astronomical unit $\\sim$ Earth-Sun distance), masses in terms of the solar mass ($M_\\odot$) and use $G \\approx 4 \\pi^2$ to simplify calculations.\n",
    "\n",
    "Revisit the slides and Python script from Lecture 4 (Scipy2.py and Scipy slides 2) -- here we examined how a 2nd order differential equation (the harmonic oscillator) could be solved using scipy.integration.solve_ivp by splitting it into two coupled first order equations. Use this as a basis to solve the differential equations above.\n",
    "\n",
    "Note that gravitational forces are always proportional to the mass $m$ upon which they act. It is therefore more convenient to work with the velocity $\\mathbf{v} = \\dot{\\mathbf{r}}$ instead of the momentum $\\mathbf{p} = m\\mathbf{v}$, so that redundant factors of $m$ cancel from the equations of motion."
   ]
  },
  {
   "cell_type": "markdown",
   "metadata": {},
   "source": [
    "### Exercise 1\n",
    "For the first case, we look at the case of the earth and the sun. We choose coordinates so that all motion takes place within the $x-y$ plane ($z=0$).\n",
    "\n",
    "Take $m_1 = 3\\times10^{-6}$ and $m_2 =1.0$.\n",
    "\n",
    "Further assume that the sun remains fixed at the origin -- i.e. $\\mathbf{r_2}(t) = \\mathbf{0}$.\n",
    "\n",
    "Use initial conditions $\\mathbf{r}_1(t=0) = (1,0)$ and $\\mathbf{v}_1(t=0) = (0, 2\\pi)$.\n",
    "\n",
    "\n",
    "a) Write the system of 4 coupled differential equations describing the system.\n",
    "\n",
    "b) Write a function evaluating each of the first derivative terms, and which can be passed to solve_ivp to integrate this system of ODEs.\n",
    "\n",
    "c) Calculate the orbit trajectory by integrating the system of ODEs over a suitable sample of time points.\n",
    "\n",
    "d) Plot and compare a few orbits with different initial velocities.\n",
    "\n"
   ]
  },
  {
   "cell_type": "markdown",
   "metadata": {},
   "source": [
    "_answer to a)_\n",
    "\n",
    "$$ \\frac{\\mathrm{d} x_1}{\\mathrm{d} t} (t)= v_{x1} $$\n",
    "\n",
    "$$ \\frac{\\mathrm{d} y_1}{\\mathrm{d} t} (t) = v_{y1} $$\n",
    "\n",
    "$$ r_2(t) = 0 \\therefore y_2 = 0 , x_2 = 0$$\n",
    "\n",
    "$$ |r_1(t)| = \\sqrt{x^2 + y^2}$$\n",
    "\n",
    "$$ |r_1(t)|^3 = \\sqrt{x^2 + y^2}^3 = (x^2 + y^2)^{\\frac{3}{2}}$$\n",
    "\n",
    "$$ \\frac{\\mathrm{d} v_{x1}}{\\mathrm{d} t} (t) = \\frac{\\mathrm{d}^2 x_1}{\\mathrm{d} t^2} = \n",
    "- \\frac{G m_2}{(x^2 + y^2)^{\\frac{3}{2}}} (x_1)   $$\n",
    "\n",
    "$$ \\frac{\\mathrm{d} v_{y1}}{\\mathrm{d} t} (t) = \\frac{\\mathrm{d}^2 y_1}{\\mathrm{d} t^2}\n",
    " = - \\frac{G m_2}{(x^2 + y^2)^{\\frac{3}{2}}} (y_1) $$\n",
    "\n"
   ]
  },
  {
   "cell_type": "code",
   "execution_count": null,
   "metadata": {},
   "outputs": [],
   "source": [
    "import numpy as np\n",
    "import matplotlib.pyplot as plt\n",
    "from scipy.integrate import solve_ivp"
   ]
  },
  {
   "cell_type": "code",
   "execution_count": null,
   "metadata": {},
   "outputs": [],
   "source": [
    "# array y contains (x1, y1, vx1, vy1)\n",
    "#as per above, array y = ()\n",
    "\n",
    "def dydt(t, y, m2):                 \n",
    "    output = np.zeros_like(y)       #Return an array of zeros with the same shape and type as a given array -- like y\n",
    "    output[0]= y[2]                 #vx1\n",
    "    output[1] = y[3]                #vx2\n",
    "    output[3] = y[]                 #dvx1/dt\n",
    "    output[4] =                     #\n",
    "    \n",
    "    return output         \n"
   ]
  },
  {
   "cell_type": "markdown",
   "metadata": {},
   "source": []
  },
  {
   "cell_type": "code",
   "execution_count": null,
   "metadata": {},
   "outputs": [],
   "source": [
    "#initial conditions\n",
    "y0 =   \n",
    "\n",
    "#range of times\n",
    "t =\n",
    "\n",
    "# Run ODE solver for earth-like initial conditions. Set tolerances to be small enough to avoid numerical errors\n",
    "earthdata = solve_ivp(???????, rtol=1E-10, atol=1E-10)"
   ]
  },
  {
   "cell_type": "code",
   "execution_count": null,
   "metadata": {},
   "outputs": [],
   "source": [
    "#other possible starting values of vx\n",
    "otherstarting = [???????]\n",
    "otherdata = []                     #create an empty list\n",
    "\n",
    "#generate data for the other cases also\n",
    "for const in otherstarting:\n",
    "    y0a = np.array((1, 0, 0*np.pi, const*np.pi)) \n",
    "    temp = solve_ivp(      )\n",
    "    otherdata.append(temp)"
   ]
  },
  {
   "cell_type": "code",
   "execution_count": null,
   "metadata": {},
   "outputs": [],
   "source": [
    "fig, ax = plt.subplots(figsize=(6,6))\n",
    "ax.set_aspect('equal')\n",
    "ax.plot(0, 0, 'o', ms=10, color='orange')\n",
    "ax.plot(earthdata.y[0], earthdata.y[1], label=\"Earth orbit\")\n",
    "\n",
    "for i, const in enumerate(otherstarting):\n",
    "    ax.plot(?????? , label='v_0='+str(const)+r'$\\pi$ [AU/yr]')\n",
    "ax.set_xlim(???? )\n",
    "ax.set_ylim(?????)\n",
    "ax.set_xlabel(?????)\n",
    "ax.set_ylabel(?????)\n",
    "ax.legend()\n",
    "plt.show()"
   ]
  }
 ],
 "metadata": {
  "kernelspec": {
   "display_name": "Python 3",
   "language": "python",
   "name": "python3"
  },
  "language_info": {
   "name": "python",
   "version": "3.8.17"
  }
 },
 "nbformat": 4,
 "nbformat_minor": 2
}
